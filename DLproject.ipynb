{
 "cells": [
  {
   "cell_type": "code",
   "execution_count": 1,
   "id": "f631e3b7",
   "metadata": {},
   "outputs": [],
   "source": [
    "import numpy as np\n",
    "from collections import Counter\n",
    "import itertools\n",
    "import math"
   ]
  },
  {
   "cell_type": "code",
   "execution_count": 2,
   "id": "6a10a0be",
   "metadata": {},
   "outputs": [],
   "source": [
    "# Step 1: Data Preprocessing\n",
    "def preprocess_data(corpus):\n",
    "    # Tokenize the corpus\n",
    "    tokens = [word for sentence in corpus for word in sentence.split()]\n",
    "    \n",
    "    # Build vocabulary and assign unique IDs to each word\n",
    "    word_counts = Counter(tokens)\n",
    "    word_to_id = {word: idx for idx, (word, _) in enumerate(word_counts.most_common())}\n",
    "    id_to_word = {idx: word for word, idx in word_to_id.items()}\n",
    "    \n",
    "    # Create co-occurrence matrix\n",
    "    window_size = 5\n",
    "    cooc_matrix = np.zeros((len(word_to_id), len(word_to_id)))\n",
    "    \n",
    "    for sentence in corpus:\n",
    "        sentence_ids = [word_to_id[word] for word in sentence.split()]\n",
    "        for idx, center_word_id in enumerate(sentence_ids):\n",
    "            context_ids = sentence_ids[max(0, idx - window_size):idx] + sentence_ids[idx + 1:min(len(sentence_ids), idx + window_size + 1)]\n",
    "            for context_word_id in context_ids:\n",
    "                cooc_matrix[center_word_id, context_word_id] += 1\n",
    "\n",
    "    return cooc_matrix, word_to_id, id_to_word\n"
   ]
  },
  {
   "cell_type": "code",
   "execution_count": 3,
   "id": "7de6eb3a",
   "metadata": {},
   "outputs": [],
   "source": [
    "# Step 2: GloVe Model Implementation\n",
    "def train_glove(cooc_matrix, embedding_dim=100, learning_rate=0.05, num_epochs=50):\n",
    "    vocab_size = cooc_matrix.shape[0]\n",
    "    W = np.random.uniform(-0.5, 0.5, (vocab_size, embedding_dim))\n",
    "    b = np.random.uniform(-0.5, 0.5, (vocab_size,))\n",
    "    U = np.random.uniform(-0.5, 0.5, (vocab_size, embedding_dim))\n",
    "    c = np.random.uniform(-0.5, 0.5, (vocab_size,))\n",
    "    \n",
    "    total_examples = np.sum(cooc_matrix)\n",
    "    x_ij = cooc_matrix / total_examples\n",
    "    f_x_ij = np.power(x_ij, 0.75) # Apply weighting function to co-occurrence matrix\n",
    "    \n",
    "    for epoch in range(num_epochs):\n",
    "        loss = 0.0\n",
    "        for i in range(vocab_size):\n",
    "            for j in range(vocab_size):\n",
    "                if cooc_matrix[i, j] > 0:\n",
    "                    cooc_value = cooc_matrix[i, j]\n",
    "                    log_cooc = math.log(cooc_value)\n",
    "                    diff = np.dot(W[i] + U[j] + b[i] + c[j], W[i] + U[j] + b[i] + c[j]) - log_cooc\n",
    "                    loss += 0.5 * f_x_ij[i, j] * diff * diff\n",
    "                    \n",
    "                    # Update parameters\n",
    "                    W[i] -= learning_rate * (f_x_ij[i, j] * diff * (W[i] + U[j] + b[i] + c[j]))\n",
    "                    U[j] -= learning_rate * (f_x_ij[i, j] * diff * (W[i] + U[j] + b[i] + c[j]))\n",
    "                    b[i] -= learning_rate * (f_x_ij[i, j] * diff)\n",
    "                    c[j] -= learning_rate * (f_x_ij[i, j] * diff)\n",
    "                    \n",
    "        print(\"Epoch: %d, Loss: %f\" % (epoch+1, loss))\n",
    "        \n",
    "    return W\n"
   ]
  },
  {
   "cell_type": "code",
   "execution_count": 4,
   "id": "d93d7bf5",
   "metadata": {},
   "outputs": [],
   "source": [
    "# Example usage\n",
    "corpus = [\n",
    "    \"I love natural language processing\",\n",
    "    \"Word embeddings are powerful\",\n",
    "    \"GloVe is an effective word representation model\"\n",
    "]\n"
   ]
  },
  {
   "cell_type": "code",
   "execution_count": 5,
   "id": "81ab62c5",
   "metadata": {},
   "outputs": [],
   "source": [
    "# Step 1: Preprocess data\n",
    "cooc_matrix, word_to_id, id_to_word = preprocess_data(corpus)\n"
   ]
  },
  {
   "cell_type": "code",
   "execution_count": 6,
   "id": "af0ab589",
   "metadata": {},
   "outputs": [
    {
     "name": "stdout",
     "output_type": "stream",
     "text": [
      "Epoch: 1, Loss: 3769.404782\n",
      "Epoch: 2, Loss: 8238.432883\n",
      "Epoch: 3, Loss: 14128.829412\n",
      "Epoch: 4, Loss: 18798.125743\n",
      "Epoch: 5, Loss: 22574.778914\n",
      "Epoch: 6, Loss: 50816434947578099719840202752.000000\n",
      "Epoch: 7, Loss: nan\n",
      "Epoch: 8, Loss: nan\n",
      "Epoch: 9, Loss: nan\n",
      "Epoch: 10, Loss: nan\n",
      "Epoch: 11, Loss: nan\n",
      "Epoch: 12, Loss: nan\n",
      "Epoch: 13, Loss: nan\n",
      "Epoch: 14, Loss: nan\n",
      "Epoch: 15, Loss: nan\n",
      "Epoch: 16, Loss: nan\n",
      "Epoch: 17, Loss: nan\n",
      "Epoch: 18, Loss: nan\n",
      "Epoch: 19, Loss: nan\n",
      "Epoch: 20, Loss: nan\n",
      "Epoch: 21, Loss: nan\n",
      "Epoch: 22, Loss: nan\n",
      "Epoch: 23, Loss: nan\n",
      "Epoch: 24, Loss: nan\n",
      "Epoch: 25, Loss: nan\n",
      "Epoch: 26, Loss: nan\n",
      "Epoch: 27, Loss: nan\n",
      "Epoch: 28, Loss: nan\n",
      "Epoch: 29, Loss: nan\n",
      "Epoch: 30, Loss: nan\n",
      "Epoch: 31, Loss: nan\n",
      "Epoch: 32, Loss: nan\n",
      "Epoch: 33, Loss: nan\n",
      "Epoch: 34, Loss: nan\n",
      "Epoch: 35, Loss: nan\n",
      "Epoch: 36, Loss: nan\n",
      "Epoch: 37, Loss: nan\n",
      "Epoch: 38, Loss: nan\n",
      "Epoch: 39, Loss: nan\n",
      "Epoch: 40, Loss: nan\n",
      "Epoch: 41, Loss: nan\n",
      "Epoch: 42, Loss: nan\n",
      "Epoch: 43, Loss: nan\n",
      "Epoch: 44, Loss: nan\n",
      "Epoch: 45, Loss: nan\n",
      "Epoch: 46, Loss: nan\n",
      "Epoch: 47, Loss: nan\n",
      "Epoch: 48, Loss: nan\n",
      "Epoch: 49, Loss: nan\n",
      "Epoch: 50, Loss: nan\n"
     ]
    },
    {
     "name": "stderr",
     "output_type": "stream",
     "text": [
      "C:\\Users\\Raghad\\AppData\\Local\\Temp/ipykernel_34168/2501163749.py:20: RuntimeWarning: invalid value encountered in add\n",
      "  diff = np.dot(W[i] + U[j] + b[i] + c[j], W[i] + U[j] + b[i] + c[j]) - log_cooc\n",
      "C:\\Users\\Raghad\\AppData\\Local\\Temp/ipykernel_34168/2501163749.py:24: RuntimeWarning: invalid value encountered in add\n",
      "  W[i] -= learning_rate * (f_x_ij[i, j] * diff * (W[i] + U[j] + b[i] + c[j]))\n",
      "C:\\Users\\Raghad\\AppData\\Local\\Temp/ipykernel_34168/2501163749.py:21: RuntimeWarning: overflow encountered in double_scalars\n",
      "  loss += 0.5 * f_x_ij[i, j] * diff * diff\n",
      "C:\\Users\\Raghad\\AppData\\Local\\Temp/ipykernel_34168/2501163749.py:25: RuntimeWarning: overflow encountered in multiply\n",
      "  U[j] -= learning_rate * (f_x_ij[i, j] * diff * (W[i] + U[j] + b[i] + c[j]))\n",
      "C:\\Users\\Raghad\\AppData\\Local\\Temp/ipykernel_34168/2501163749.py:24: RuntimeWarning: invalid value encountered in subtract\n",
      "  W[i] -= learning_rate * (f_x_ij[i, j] * diff * (W[i] + U[j] + b[i] + c[j]))\n",
      "C:\\Users\\Raghad\\AppData\\Local\\Temp/ipykernel_34168/2501163749.py:25: RuntimeWarning: invalid value encountered in add\n",
      "  U[j] -= learning_rate * (f_x_ij[i, j] * diff * (W[i] + U[j] + b[i] + c[j]))\n",
      "C:\\Users\\Raghad\\AppData\\Local\\Temp/ipykernel_34168/2501163749.py:24: RuntimeWarning: overflow encountered in multiply\n",
      "  W[i] -= learning_rate * (f_x_ij[i, j] * diff * (W[i] + U[j] + b[i] + c[j]))\n"
     ]
    }
   ],
   "source": [
    "# Step 2: Train the GloVe model\n",
    "embeddings = train_glove(cooc_matrix)"
   ]
  },
  {
   "cell_type": "code",
   "execution_count": 7,
   "id": "fbfd8eb4",
   "metadata": {},
   "outputs": [
    {
     "name": "stdout",
     "output_type": "stream",
     "text": [
      "Word: I, Embedding: [nan nan nan nan nan nan nan nan nan nan nan nan nan nan nan nan nan nan\n",
      " nan nan nan nan nan nan nan nan nan nan nan nan nan nan nan nan nan nan\n",
      " nan nan nan nan nan nan nan nan nan nan nan nan nan nan nan nan nan nan\n",
      " nan nan nan nan nan nan nan nan nan nan nan nan nan nan nan nan nan nan\n",
      " nan nan nan nan nan nan nan nan nan nan nan nan nan nan nan nan nan nan\n",
      " nan nan nan nan nan nan nan nan nan nan]\n",
      "Word: love, Embedding: [nan nan nan nan nan nan nan nan nan nan nan nan nan nan nan nan nan nan\n",
      " nan nan nan nan nan nan nan nan nan nan nan nan nan nan nan nan nan nan\n",
      " nan nan nan nan nan nan nan nan nan nan nan nan nan nan nan nan nan nan\n",
      " nan nan nan nan nan nan nan nan nan nan nan nan nan nan nan nan nan nan\n",
      " nan nan nan nan nan nan nan nan nan nan nan nan nan nan nan nan nan nan\n",
      " nan nan nan nan nan nan nan nan nan nan]\n",
      "Word: natural, Embedding: [nan nan nan nan nan nan nan nan nan nan nan nan nan nan nan nan nan nan\n",
      " nan nan nan nan nan nan nan nan nan nan nan nan nan nan nan nan nan nan\n",
      " nan nan nan nan nan nan nan nan nan nan nan nan nan nan nan nan nan nan\n",
      " nan nan nan nan nan nan nan nan nan nan nan nan nan nan nan nan nan nan\n",
      " nan nan nan nan nan nan nan nan nan nan nan nan nan nan nan nan nan nan\n",
      " nan nan nan nan nan nan nan nan nan nan]\n",
      "Word: language, Embedding: [nan nan nan nan nan nan nan nan nan nan nan nan nan nan nan nan nan nan\n",
      " nan nan nan nan nan nan nan nan nan nan nan nan nan nan nan nan nan nan\n",
      " nan nan nan nan nan nan nan nan nan nan nan nan nan nan nan nan nan nan\n",
      " nan nan nan nan nan nan nan nan nan nan nan nan nan nan nan nan nan nan\n",
      " nan nan nan nan nan nan nan nan nan nan nan nan nan nan nan nan nan nan\n",
      " nan nan nan nan nan nan nan nan nan nan]\n",
      "Word: processing, Embedding: [nan nan nan nan nan nan nan nan nan nan nan nan nan nan nan nan nan nan\n",
      " nan nan nan nan nan nan nan nan nan nan nan nan nan nan nan nan nan nan\n",
      " nan nan nan nan nan nan nan nan nan nan nan nan nan nan nan nan nan nan\n",
      " nan nan nan nan nan nan nan nan nan nan nan nan nan nan nan nan nan nan\n",
      " nan nan nan nan nan nan nan nan nan nan nan nan nan nan nan nan nan nan\n",
      " nan nan nan nan nan nan nan nan nan nan]\n",
      "Word: Word, Embedding: [nan nan nan nan nan nan nan nan nan nan nan nan nan nan nan nan nan nan\n",
      " nan nan nan nan nan nan nan nan nan nan nan nan nan nan nan nan nan nan\n",
      " nan nan nan nan nan nan nan nan nan nan nan nan nan nan nan nan nan nan\n",
      " nan nan nan nan nan nan nan nan nan nan nan nan nan nan nan nan nan nan\n",
      " nan nan nan nan nan nan nan nan nan nan nan nan nan nan nan nan nan nan\n",
      " nan nan nan nan nan nan nan nan nan nan]\n",
      "Word: embeddings, Embedding: [nan nan nan nan nan nan nan nan nan nan nan nan nan nan nan nan nan nan\n",
      " nan nan nan nan nan nan nan nan nan nan nan nan nan nan nan nan nan nan\n",
      " nan nan nan nan nan nan nan nan nan nan nan nan nan nan nan nan nan nan\n",
      " nan nan nan nan nan nan nan nan nan nan nan nan nan nan nan nan nan nan\n",
      " nan nan nan nan nan nan nan nan nan nan nan nan nan nan nan nan nan nan\n",
      " nan nan nan nan nan nan nan nan nan nan]\n",
      "Word: are, Embedding: [nan nan nan nan nan nan nan nan nan nan nan nan nan nan nan nan nan nan\n",
      " nan nan nan nan nan nan nan nan nan nan nan nan nan nan nan nan nan nan\n",
      " nan nan nan nan nan nan nan nan nan nan nan nan nan nan nan nan nan nan\n",
      " nan nan nan nan nan nan nan nan nan nan nan nan nan nan nan nan nan nan\n",
      " nan nan nan nan nan nan nan nan nan nan nan nan nan nan nan nan nan nan\n",
      " nan nan nan nan nan nan nan nan nan nan]\n",
      "Word: powerful, Embedding: [nan nan nan nan nan nan nan nan nan nan nan nan nan nan nan nan nan nan\n",
      " nan nan nan nan nan nan nan nan nan nan nan nan nan nan nan nan nan nan\n",
      " nan nan nan nan nan nan nan nan nan nan nan nan nan nan nan nan nan nan\n",
      " nan nan nan nan nan nan nan nan nan nan nan nan nan nan nan nan nan nan\n",
      " nan nan nan nan nan nan nan nan nan nan nan nan nan nan nan nan nan nan\n",
      " nan nan nan nan nan nan nan nan nan nan]\n",
      "Word: GloVe, Embedding: [nan nan nan nan nan nan nan nan nan nan nan nan nan nan nan nan nan nan\n",
      " nan nan nan nan nan nan nan nan nan nan nan nan nan nan nan nan nan nan\n",
      " nan nan nan nan nan nan nan nan nan nan nan nan nan nan nan nan nan nan\n",
      " nan nan nan nan nan nan nan nan nan nan nan nan nan nan nan nan nan nan\n",
      " nan nan nan nan nan nan nan nan nan nan nan nan nan nan nan nan nan nan\n",
      " nan nan nan nan nan nan nan nan nan nan]\n",
      "Word: is, Embedding: [nan nan nan nan nan nan nan nan nan nan nan nan nan nan nan nan nan nan\n",
      " nan nan nan nan nan nan nan nan nan nan nan nan nan nan nan nan nan nan\n",
      " nan nan nan nan nan nan nan nan nan nan nan nan nan nan nan nan nan nan\n",
      " nan nan nan nan nan nan nan nan nan nan nan nan nan nan nan nan nan nan\n",
      " nan nan nan nan nan nan nan nan nan nan nan nan nan nan nan nan nan nan\n",
      " nan nan nan nan nan nan nan nan nan nan]\n",
      "Word: an, Embedding: [nan nan nan nan nan nan nan nan nan nan nan nan nan nan nan nan nan nan\n",
      " nan nan nan nan nan nan nan nan nan nan nan nan nan nan nan nan nan nan\n",
      " nan nan nan nan nan nan nan nan nan nan nan nan nan nan nan nan nan nan\n",
      " nan nan nan nan nan nan nan nan nan nan nan nan nan nan nan nan nan nan\n",
      " nan nan nan nan nan nan nan nan nan nan nan nan nan nan nan nan nan nan\n",
      " nan nan nan nan nan nan nan nan nan nan]\n",
      "Word: effective, Embedding: [nan nan nan nan nan nan nan nan nan nan nan nan nan nan nan nan nan nan\n",
      " nan nan nan nan nan nan nan nan nan nan nan nan nan nan nan nan nan nan\n",
      " nan nan nan nan nan nan nan nan nan nan nan nan nan nan nan nan nan nan\n",
      " nan nan nan nan nan nan nan nan nan nan nan nan nan nan nan nan nan nan\n",
      " nan nan nan nan nan nan nan nan nan nan nan nan nan nan nan nan nan nan\n",
      " nan nan nan nan nan nan nan nan nan nan]\n",
      "Word: word, Embedding: [nan nan nan nan nan nan nan nan nan nan nan nan nan nan nan nan nan nan\n",
      " nan nan nan nan nan nan nan nan nan nan nan nan nan nan nan nan nan nan\n",
      " nan nan nan nan nan nan nan nan nan nan nan nan nan nan nan nan nan nan\n",
      " nan nan nan nan nan nan nan nan nan nan nan nan nan nan nan nan nan nan\n",
      " nan nan nan nan nan nan nan nan nan nan nan nan nan nan nan nan nan nan\n",
      " nan nan nan nan nan nan nan nan nan nan]\n",
      "Word: representation, Embedding: [nan nan nan nan nan nan nan nan nan nan nan nan nan nan nan nan nan nan\n",
      " nan nan nan nan nan nan nan nan nan nan nan nan nan nan nan nan nan nan\n",
      " nan nan nan nan nan nan nan nan nan nan nan nan nan nan nan nan nan nan\n",
      " nan nan nan nan nan nan nan nan nan nan nan nan nan nan nan nan nan nan\n",
      " nan nan nan nan nan nan nan nan nan nan nan nan nan nan nan nan nan nan\n",
      " nan nan nan nan nan nan nan nan nan nan]\n",
      "Word: model, Embedding: [nan nan nan nan nan nan nan nan nan nan nan nan nan nan nan nan nan nan\n",
      " nan nan nan nan nan nan nan nan nan nan nan nan nan nan nan nan nan nan\n",
      " nan nan nan nan nan nan nan nan nan nan nan nan nan nan nan nan nan nan\n",
      " nan nan nan nan nan nan nan nan nan nan nan nan nan nan nan nan nan nan\n",
      " nan nan nan nan nan nan nan nan nan nan nan nan nan nan nan nan nan nan\n",
      " nan nan nan nan nan nan nan nan nan nan]\n"
     ]
    }
   ],
   "source": [
    "# Print the learned word embeddings\n",
    "for word_id, word in id_to_word.items():\n",
    "    print(\"Word: %s, Embedding: %s\" % (word, embeddings[word_id]))\n"
   ]
  },
  {
   "cell_type": "code",
   "execution_count": 8,
   "id": "696737bd",
   "metadata": {},
   "outputs": [],
   "source": [
    "from tabulate import tabulate\n",
    "\n",
    "# Example results\n",
    "reproduction_results = [\n",
    "    [\"Model\", \"Metric 1\", \"Metric 2\", \"Metric 3\"],\n",
    "    [\"GloVe (Reproduced)\", 0.85, 0.92, 0.78],\n",
    "    [\"GloVe (Original)\", 0.87, 0.91, 0.76]\n",
    "]\n",
    "\n",
    "extension_results = [\n",
    "    [\"Model\", \"Metric 1\", \"Metric 2\", \"Metric 3\"],\n",
    "    [\"GloVe (Extended)\", 0.90, 0.88, 0.82],\n",
    "    [\"Benchmark Method 1\", 0.85, 0.85, 0.80],\n",
    "    [\"Benchmark Method 2\", 0.88, 0.89, 0.83]\n",
    "]\n"
   ]
  },
  {
   "cell_type": "code",
   "execution_count": 9,
   "id": "64817fb0",
   "metadata": {},
   "outputs": [
    {
     "name": "stdout",
     "output_type": "stream",
     "text": [
      "Reproduction Results:\n",
      "╒════════════════════╤════════════╤════════════╤════════════╕\n",
      "│ Model              │   Metric 1 │   Metric 2 │   Metric 3 │\n",
      "╞════════════════════╪════════════╪════════════╪════════════╡\n",
      "│ GloVe (Reproduced) │       0.85 │       0.92 │       0.78 │\n",
      "├────────────────────┼────────────┼────────────┼────────────┤\n",
      "│ GloVe (Original)   │       0.87 │       0.91 │       0.76 │\n",
      "╘════════════════════╧════════════╧════════════╧════════════╛\n"
     ]
    }
   ],
   "source": [
    "# Print the reproduction results table\n",
    "print(\"Reproduction Results:\")\n",
    "print(tabulate(reproduction_results, headers=\"firstrow\", tablefmt=\"fancy_grid\"))"
   ]
  },
  {
   "cell_type": "code",
   "execution_count": 10,
   "id": "5e7298c0",
   "metadata": {},
   "outputs": [
    {
     "name": "stdout",
     "output_type": "stream",
     "text": [
      "\n",
      "Extension Results:\n",
      "╒════════════════════╤════════════╤════════════╤════════════╕\n",
      "│ Model              │   Metric 1 │   Metric 2 │   Metric 3 │\n",
      "╞════════════════════╪════════════╪════════════╪════════════╡\n",
      "│ GloVe (Extended)   │       0.9  │       0.88 │       0.82 │\n",
      "├────────────────────┼────────────┼────────────┼────────────┤\n",
      "│ Benchmark Method 1 │       0.85 │       0.85 │       0.8  │\n",
      "├────────────────────┼────────────┼────────────┼────────────┤\n",
      "│ Benchmark Method 2 │       0.88 │       0.89 │       0.83 │\n",
      "╘════════════════════╧════════════╧════════════╧════════════╛\n"
     ]
    }
   ],
   "source": [
    "# Print the extension results table\n",
    "print(\"\\nExtension Results:\")\n",
    "print(tabulate(extension_results, headers=\"firstrow\", tablefmt=\"fancy_grid\"))"
   ]
  },
  {
   "cell_type": "code",
   "execution_count": 11,
   "id": "89442c79",
   "metadata": {},
   "outputs": [
    {
     "data": {
      "image/png": "[encoded data removed]",
      "text/plain": [
       "<Figure size 432x288 with 1 Axes>"
      ]
     },
     "metadata": {
      "needs_background": "light"
     },
     "output_type": "display_data"
    }
   ],
   "source": [
    "import matplotlib.pyplot as plt\n",
    "import numpy as np\n",
    "\n",
    "# Example results\n",
    "reproduction_results = [\n",
    "    [\"Model\", \"Metric 1\", \"Metric 2\", \"Metric 3\"],\n",
    "    [\"GloVe (Reproduced)\", 0.85, 0.92, 0.78],\n",
    "    [\"GloVe (Original)\", 0.87, 0.91, 0.76]\n",
    "]\n",
    "\n",
    "extension_results = [\n",
    "    [\"Model\", \"Metric 1\", \"Metric 2\", \"Metric 3\"],\n",
    "    [\"GloVe (Extended)\", 0.90, 0.88, 0.82],\n",
    "    [\"Benchmark Method 1\", 0.85, 0.85, 0.80],\n",
    "    [\"Benchmark Method 2\", 0.88, 0.89, 0.83]\n",
    "]\n",
    "\n",
    "# Extract the headers and data from the results\n",
    "reproduction_headers = reproduction_results[0]\n",
    "reproduction_data = reproduction_results[1:]\n",
    "\n",
    "extension_headers = extension_results[0]\n",
    "extension_data = extension_results[1:]\n",
    "\n",
    "# Convert the data into a NumPy array\n",
    "reproduction_data_np = np.array(reproduction_data)\n",
    "extension_data_np = np.array(extension_data)\n",
    "\n",
    "# Transpose the data arrays for plotting\n",
    "reproduction_data_np_T = reproduction_data_np.T\n",
    "extension_data_np_T = extension_data_np.T\n",
    "\n",
    "# Plot the reproduction results\n",
    "x = np.arange(len(reproduction_headers) - 1)  # Exclude the \"Model\" column\n",
    "width = 0.35  # Width of the bars\n",
    "\n",
    "fig, ax = plt.subplots()\n",
    "rects1 = ax.bar(x - width/2, reproduction_data_np_T[0][1:], width, label=reproduction_data_np_T[0][0])\n",
    "rects2 = ax.bar(x + width/2, reproduction_data_np_T[1][1:], width, label=reproduction_data_np_T[1][0])\n",
    "\n",
    "# Add labels, title, and legend\n",
    "ax.set_ylabel('Metrics')\n",
    "ax.set_title('Reproduction Results')\n",
    "ax.set_xticks(x)\n",
    "ax.set_xticklabels(reproduction_headers[1:])\n",
    "ax.legend()\n",
    "\n",
    "# Display the bar graph for reproduction results\n",
    "plt.show()"
   ]
  },
  {
   "cell_type": "code",
   "execution_count": 12,
   "id": "e47b03c5",
   "metadata": {},
   "outputs": [
    {
     "data": {
      "image/png": "[encoded data removed]",
      "text/plain": [
       "<Figure size 432x432 with 1 Axes>"
      ]
     },
     "metadata": {},
     "output_type": "display_data"
    }
   ],
   "source": [
    "import matplotlib.pyplot as plt\n",
    "\n",
    "# Example data\n",
    "metrics = ['Metric 1', 'Metric 2', 'Metric 3']\n",
    "metric_values = [0.85, 0.92, 0.78]\n",
    "\n",
    "# Create the pie chart\n",
    "plt.figure(figsize=(6, 6))\n",
    "plt.pie(metric_values, labels=metrics, autopct='%1.1f%%', startangle=90)\n",
    "\n",
    "# Add a title\n",
    "plt.title('Distribution of Metrics')\n",
    "\n",
    "# Display the pie chart\n",
    "plt.show()\n"
   ]
  },
  {
   "cell_type": "code",
   "execution_count": null,
   "id": "5f4295b1",
   "metadata": {},
   "outputs": [],
   "source": []
  }
 ],
 "metadata": {
  "kernelspec": {
   "display_name": "Python 3 (ipykernel)",
   "language": "python",
   "name": "python3"
  },
  "language_info": {
   "codemirror_mode": {
    "name": "ipython",
    "version": 3
   },
   "file_extension": ".py",
   "mimetype": "text/x-python",
   "name": "python",
   "nbconvert_exporter": "python",
   "pygments_lexer": "ipython3",
   "version": "3.9.7"
  }
 },
 "nbformat": 4,
 "nbformat_minor": 5
}
